{
 "cells": [
  {
   "cell_type": "markdown",
   "metadata": {},
   "source": [
    "# Overview:\n",
    "\n",
    "The purpose of this project was to practise basic python skills as well as computing linear trend lines on data. This assignment is split into two tasks both of which require me to explore the data, compute trend lines and make visualisations."
   ]
  },
  {
   "cell_type": "code",
   "execution_count": 3,
   "metadata": {},
   "outputs": [],
   "source": [
    "import numpy as np\n",
    "import pandas as pd\n",
    "import matplotlib.pyplot as pl\n",
    "%matplotlib inline"
   ]
  },
  {
   "cell_type": "markdown",
   "metadata": {},
   "source": [
    "# Task 1: NZ Electricity Production and Use\n",
    " "
   ]
  },
  {
   "cell_type": "markdown",
   "metadata": {},
   "source": [
    "Loading Table 1 of the file electricity-statistics.xlsx and extracting a dataframe \"df1\" which contains the quarterly data about electicity generation, broken down by type (from 1974 onwards)."
   ]
  },
  {
   "cell_type": "markdown",
   "metadata": {},
   "source": [
    "The command `elec = pd.ExcelFile('location')` makes the xlsx file in location available.\n",
    "\n",
    "`pd.read_excel(elec, 'Table 1',skiprows=1)` will read the Table 1 sheet. I had to change the number of rows to be skipped.\n"
   ]
  },
  {
   "cell_type": "code",
   "execution_count": 4,
   "metadata": {},
   "outputs": [
    {
     "data": {
      "text/html": [
       "<div>\n",
       "<style scoped>\n",
       "    .dataframe tbody tr th:only-of-type {\n",
       "        vertical-align: middle;\n",
       "    }\n",
       "\n",
       "    .dataframe tbody tr th {\n",
       "        vertical-align: top;\n",
       "    }\n",
       "\n",
       "    .dataframe thead th {\n",
       "        text-align: right;\n",
       "    }\n",
       "</style>\n",
       "<table border=\"1\" class=\"dataframe\">\n",
       "  <thead>\n",
       "    <tr style=\"text-align: right;\">\n",
       "      <th></th>\n",
       "      <th>Calendar quarters</th>\n",
       "      <th>1974-03-01 00:00:00</th>\n",
       "      <th>1974-06-01 00:00:00</th>\n",
       "      <th>1974-09-01 00:00:00</th>\n",
       "      <th>1974-12-01 00:00:00</th>\n",
       "      <th>1975-03-01 00:00:00</th>\n",
       "      <th>1975-06-01 00:00:00</th>\n",
       "      <th>1975-09-01 00:00:00</th>\n",
       "      <th>1975-12-01 00:00:00</th>\n",
       "      <th>1976-03-01 00:00:00</th>\n",
       "      <th>...</th>\n",
       "      <th>2016-09-01 00:00:00</th>\n",
       "      <th>2016-12-01 00:00:00</th>\n",
       "      <th>2017-03-01 00:00:00</th>\n",
       "      <th>2017-06-01 00:00:00</th>\n",
       "      <th>2017-09-01 00:00:00</th>\n",
       "      <th>2017-12-01 00:00:00</th>\n",
       "      <th>2018-03-01 00:00:00</th>\n",
       "      <th>2018-06-01 00:00:00</th>\n",
       "      <th>2018-09-01 00:00:00</th>\n",
       "      <th>% change when compared to the same quarter of the previous year</th>\n",
       "    </tr>\n",
       "  </thead>\n",
       "  <tbody>\n",
       "    <tr>\n",
       "      <th>1</th>\n",
       "      <td>Net Generation (GWh)1,2</td>\n",
       "      <td>4051.204</td>\n",
       "      <td>4802.204</td>\n",
       "      <td>5648.204</td>\n",
       "      <td>5674.204</td>\n",
       "      <td>4136.204</td>\n",
       "      <td>5298.354</td>\n",
       "      <td>5881.354</td>\n",
       "      <td>4804.354</td>\n",
       "      <td>4556.354</td>\n",
       "      <td>...</td>\n",
       "      <td>11424.211488</td>\n",
       "      <td>10260.673920</td>\n",
       "      <td>10093.278816</td>\n",
       "      <td>10878.471265</td>\n",
       "      <td>11438.620188</td>\n",
       "      <td>10500.479446</td>\n",
       "      <td>9963.954927</td>\n",
       "      <td>11039.265290</td>\n",
       "      <td>11555.014205</td>\n",
       "      <td>0.010176</td>\n",
       "    </tr>\n",
       "    <tr>\n",
       "      <th>2</th>\n",
       "      <td>Hydro</td>\n",
       "      <td>3201.000</td>\n",
       "      <td>3432.000</td>\n",
       "      <td>4174.000</td>\n",
       "      <td>4230.000</td>\n",
       "      <td>3242.000</td>\n",
       "      <td>4330.000</td>\n",
       "      <td>4842.000</td>\n",
       "      <td>4083.000</td>\n",
       "      <td>3604.000</td>\n",
       "      <td>...</td>\n",
       "      <td>7154.273797</td>\n",
       "      <td>6517.501803</td>\n",
       "      <td>6142.702235</td>\n",
       "      <td>6061.158635</td>\n",
       "      <td>6571.060901</td>\n",
       "      <td>6158.797630</td>\n",
       "      <td>5775.343498</td>\n",
       "      <td>6842.961914</td>\n",
       "      <td>7179.706536</td>\n",
       "      <td>0.092625</td>\n",
       "    </tr>\n",
       "    <tr>\n",
       "      <th>3</th>\n",
       "      <td>Geothermal</td>\n",
       "      <td>299.500</td>\n",
       "      <td>341.500</td>\n",
       "      <td>358.500</td>\n",
       "      <td>358.500</td>\n",
       "      <td>317.500</td>\n",
       "      <td>345.500</td>\n",
       "      <td>348.500</td>\n",
       "      <td>338.500</td>\n",
       "      <td>294.500</td>\n",
       "      <td>...</td>\n",
       "      <td>1873.367542</td>\n",
       "      <td>1757.436626</td>\n",
       "      <td>1817.047880</td>\n",
       "      <td>1912.620232</td>\n",
       "      <td>1938.536999</td>\n",
       "      <td>1790.770884</td>\n",
       "      <td>1699.632750</td>\n",
       "      <td>1838.438644</td>\n",
       "      <td>1923.034067</td>\n",
       "      <td>-0.007997</td>\n",
       "    </tr>\n",
       "    <tr>\n",
       "      <th>4</th>\n",
       "      <td>Biogas</td>\n",
       "      <td>1.899</td>\n",
       "      <td>1.899</td>\n",
       "      <td>1.899</td>\n",
       "      <td>1.899</td>\n",
       "      <td>1.899</td>\n",
       "      <td>13.149</td>\n",
       "      <td>13.149</td>\n",
       "      <td>13.149</td>\n",
       "      <td>13.149</td>\n",
       "      <td>...</td>\n",
       "      <td>62.606298</td>\n",
       "      <td>62.880248</td>\n",
       "      <td>62.373028</td>\n",
       "      <td>60.737144</td>\n",
       "      <td>61.101644</td>\n",
       "      <td>60.080544</td>\n",
       "      <td>60.072144</td>\n",
       "      <td>59.296844</td>\n",
       "      <td>60.827985</td>\n",
       "      <td>-0.004479</td>\n",
       "    </tr>\n",
       "    <tr>\n",
       "      <th>5</th>\n",
       "      <td>Wood</td>\n",
       "      <td>76.535</td>\n",
       "      <td>76.535</td>\n",
       "      <td>76.535</td>\n",
       "      <td>76.535</td>\n",
       "      <td>76.535</td>\n",
       "      <td>76.535</td>\n",
       "      <td>76.535</td>\n",
       "      <td>76.535</td>\n",
       "      <td>76.535</td>\n",
       "      <td>...</td>\n",
       "      <td>87.151671</td>\n",
       "      <td>79.833569</td>\n",
       "      <td>82.078624</td>\n",
       "      <td>76.614528</td>\n",
       "      <td>76.677698</td>\n",
       "      <td>68.183730</td>\n",
       "      <td>79.259094</td>\n",
       "      <td>72.708856</td>\n",
       "      <td>58.215141</td>\n",
       "      <td>-0.240781</td>\n",
       "    </tr>\n",
       "  </tbody>\n",
       "</table>\n",
       "<p>5 rows × 181 columns</p>\n",
       "</div>"
      ],
      "text/plain": [
       "         Calendar quarters  1974-03-01 00:00:00  1974-06-01 00:00:00  \\\n",
       "1  Net Generation (GWh)1,2             4051.204             4802.204   \n",
       "2                    Hydro             3201.000             3432.000   \n",
       "3               Geothermal              299.500              341.500   \n",
       "4                   Biogas                1.899                1.899   \n",
       "5                     Wood               76.535               76.535   \n",
       "\n",
       "   1974-09-01 00:00:00  1974-12-01 00:00:00  1975-03-01 00:00:00  \\\n",
       "1             5648.204             5674.204             4136.204   \n",
       "2             4174.000             4230.000             3242.000   \n",
       "3              358.500              358.500              317.500   \n",
       "4                1.899                1.899                1.899   \n",
       "5               76.535               76.535               76.535   \n",
       "\n",
       "   1975-06-01 00:00:00  1975-09-01 00:00:00  1975-12-01 00:00:00  \\\n",
       "1             5298.354             5881.354             4804.354   \n",
       "2             4330.000             4842.000             4083.000   \n",
       "3              345.500              348.500              338.500   \n",
       "4               13.149               13.149               13.149   \n",
       "5               76.535               76.535               76.535   \n",
       "\n",
       "   1976-03-01 00:00:00  \\\n",
       "1             4556.354   \n",
       "2             3604.000   \n",
       "3              294.500   \n",
       "4               13.149   \n",
       "5               76.535   \n",
       "\n",
       "                                ...                                 \\\n",
       "1                               ...                                  \n",
       "2                               ...                                  \n",
       "3                               ...                                  \n",
       "4                               ...                                  \n",
       "5                               ...                                  \n",
       "\n",
       "   2016-09-01 00:00:00  2016-12-01 00:00:00  2017-03-01 00:00:00  \\\n",
       "1         11424.211488         10260.673920         10093.278816   \n",
       "2          7154.273797          6517.501803          6142.702235   \n",
       "3          1873.367542          1757.436626          1817.047880   \n",
       "4            62.606298            62.880248            62.373028   \n",
       "5            87.151671            79.833569            82.078624   \n",
       "\n",
       "   2017-06-01 00:00:00  2017-09-01 00:00:00  2017-12-01 00:00:00  \\\n",
       "1         10878.471265         11438.620188         10500.479446   \n",
       "2          6061.158635          6571.060901          6158.797630   \n",
       "3          1912.620232          1938.536999          1790.770884   \n",
       "4            60.737144            61.101644            60.080544   \n",
       "5            76.614528            76.677698            68.183730   \n",
       "\n",
       "   2018-03-01 00:00:00  2018-06-01 00:00:00  2018-09-01 00:00:00  \\\n",
       "1          9963.954927         11039.265290         11555.014205   \n",
       "2          5775.343498          6842.961914          7179.706536   \n",
       "3          1699.632750          1838.438644          1923.034067   \n",
       "4            60.072144            59.296844            60.827985   \n",
       "5            79.259094            72.708856            58.215141   \n",
       "\n",
       "   % change when compared to the same quarter of the previous year  \n",
       "1                                           0.010176                \n",
       "2                                           0.092625                \n",
       "3                                          -0.007997                \n",
       "4                                          -0.004479                \n",
       "5                                          -0.240781                \n",
       "\n",
       "[5 rows x 181 columns]"
      ]
     },
     "execution_count": 4,
     "metadata": {},
     "output_type": "execute_result"
    }
   ],
   "source": [
    "# Here is the code to do this for Table 1\n",
    "xls = pd.ExcelFile('electricity-statistics.xlsx') # Read the whole excel file into an object called \"xls\"\n",
    "df1 = pd.read_excel(xls, 'Table 1',skiprows=9) # Read sheet named \"Table 1\", skip 9 blank rows on top\n",
    "df1 = df1.drop(0) # As row 10 in the excel file is now title row, row 11 becomes row 0. Drop it as it is blank.\n",
    "df1.head() # Have a look at the data"
   ]
  },
  {
   "cell_type": "markdown",
   "metadata": {},
   "source": [
    "### Getting the necessary data\n",
    "The first step was to get the numbers for both overall consumption and generation over time by reading them out of df1. The two datasets are different lengths (shown by the NaN values), so I had to only read the relevant parts of them. "
   ]
  },
  {
   "cell_type": "code",
   "execution_count": 5,
   "metadata": {},
   "outputs": [],
   "source": [
    "gen = df1.iloc[0,62:-1]  # Read generation figures from row 0 of df1. As this series is longer than the consumption one, we read only from column 62\n",
    "con = df1.iloc[14,62:-1] # Read consumption figures from row 14 of df1. "
   ]
  },
  {
   "cell_type": "markdown",
   "metadata": {},
   "source": [
    "### Plotting the generation and consumption on the same time axis. "
   ]
  },
  {
   "cell_type": "code",
   "execution_count": 6,
   "metadata": {},
   "outputs": [
    {
     "data": {
      "text/plain": [
       "[<matplotlib.lines.Line2D at 0x11b1c5668>]"
      ]
     },
     "execution_count": 6,
     "metadata": {},
     "output_type": "execute_result"
    },
    {
     "data": {
      "image/png": "[encoded data removed]",
      "text/plain": [
       "<Figure size 432x288 with 1 Axes>"
      ]
     },
     "metadata": {
      "needs_background": "light"
     },
     "output_type": "display_data"
    }
   ],
   "source": [
    "pl.plot(gen,'b.')\n",
    "pl.plot(con,'r.')"
   ]
  },
  {
   "cell_type": "markdown",
   "metadata": {},
   "source": [
    "### Plot a histogram of generation methods over time. \n",
    "\n",
    "`pl.bar()` is the command for plotting a bar chart. Find out more using the help command or by looking at https://pythonspot.com/matplotlib-bar-chart/\n"
   ]
  },
  {
   "cell_type": "code",
   "execution_count": 7,
   "metadata": {},
   "outputs": [],
   "source": [
    "# Example for 3 types of generation methods\n",
    "hyd=df1.iloc[1,1:]\n",
    "geo=df1.iloc[2,1:]\n",
    "gas=df1.iloc[9,1:]"
   ]
  },
  {
   "cell_type": "code",
   "execution_count": 8,
   "metadata": {},
   "outputs": [
    {
     "data": {
      "image/png": "[encoded data removed]",
      "text/plain": [
       "<Figure size 432x288 with 1 Axes>"
      ]
     },
     "metadata": {
      "needs_background": "light"
     },
     "output_type": "display_data"
    }
   ],
   "source": [
    "N = len(hyd)\n",
    "ind = np.arange(N)    # index for the groups\n",
    "width = 0.3           # the width of the bars\n",
    "\n",
    "# Construct 3 bar charts\n",
    "p1 = pl.bar(ind, hyd, width)\n",
    "p2 = pl.bar(ind+width, geo, width)\n",
    "p3 = pl.bar(ind+2*width, gas, width)\n",
    "\n",
    "# Stack them and construct the legend\n",
    "pl.ylabel('GWh')\n",
    "pl.title('Generation methods over time')\n",
    "pl.legend((p1[0], p2[0], p3[0]), ('Hydro', 'Geotherm','Gas'))\n",
    "\n",
    "pl.show()"
   ]
  },
  {
   "cell_type": "markdown",
   "metadata": {},
   "source": [
    "### Plotting the  generation and consumption against each other, and fit a trend line to the data. I've given an example of plotting a trendline below."
   ]
  },
  {
   "cell_type": "code",
   "execution_count": 9,
   "metadata": {},
   "outputs": [
    {
     "data": {
      "text/plain": [
       "[<matplotlib.lines.Line2D at 0x11bb58748>]"
      ]
     },
     "execution_count": 9,
     "metadata": {},
     "output_type": "execute_result"
    },
    {
     "data": {
      "image/png": "[encoded data removed]",
      "text/plain": [
       "<Figure size 432x288 with 1 Axes>"
      ]
     },
     "metadata": {
      "needs_background": "light"
     },
     "output_type": "display_data"
    }
   ],
   "source": [
    "pl.plot(con,gen,'o') # Plot the figures"
   ]
  },
  {
   "cell_type": "code",
   "execution_count": 10,
   "metadata": {},
   "outputs": [
    {
     "data": {
      "text/plain": [
       "[<matplotlib.lines.Line2D at 0x11bb32908>]"
      ]
     },
     "execution_count": 10,
     "metadata": {},
     "output_type": "execute_result"
    },
    {
     "data": {
      "image/png": "[encoded data removed]",
      "text/plain": [
       "<Figure size 432x288 with 1 Axes>"
      ]
     },
     "metadata": {
      "needs_background": "light"
     },
     "output_type": "display_data"
    }
   ],
   "source": [
    "# Convert data type from panda to float\n",
    "gen = pd.to_numeric(gen, errors='coerce')\n",
    "con = pd.to_numeric(con, errors='coerce')\n",
    "\n",
    "# Fit the linear model\n",
    "fit = np.polyfit(gen,con,1)\n",
    "\n",
    "# Get the values at the datapoints\n",
    "l = con*fit[0] + fit[1] \n",
    "\n",
    "pl.plot(con,gen,'.')\n",
    "pl.plot(l,con)"
   ]
  },
  {
   "cell_type": "markdown",
   "metadata": {},
   "source": [
    "### Example of computing a trend line\n",
    "To compute a trend line in Numpy we can use `np.polyfit`. This was demonstrated in the lectures, so I made a fake example to test it out\n",
    "\n",
    "I also needed to use `gen = pd.to_numeric(gen, errors='coerce')` (and similarily for con) so that Python treats the numbers as floating point numbers."
   ]
  },
  {
   "cell_type": "code",
   "execution_count": 11,
   "metadata": {},
   "outputs": [],
   "source": [
    "# Here is some fake data for sample purposes\n",
    "df = pd.DataFrame({'consumption': [ 503 , 584 , 587 ,570 , 566 , 656 , 662, 682 , 705 , 750 , 780 , 845 , 891 , 976 ],\n",
    "                  'date': np.arange(14)})"
   ]
  },
  {
   "cell_type": "code",
   "execution_count": 12,
   "metadata": {},
   "outputs": [],
   "source": [
    "# Compute a least-squares fit to the two variables\n",
    "fit = np.polyfit(df.date,df.consumption,1)\n",
    "# Get the values at the datapoints\n",
    "l = df.date*fit[0] + fit[1] "
   ]
  },
  {
   "cell_type": "code",
   "execution_count": 13,
   "metadata": {},
   "outputs": [
    {
     "data": {
      "text/plain": [
       "[<matplotlib.lines.Line2D at 0x11bc34400>]"
      ]
     },
     "execution_count": 13,
     "metadata": {},
     "output_type": "execute_result"
    },
    {
     "data": {
      "image/png": "[encoded data removed]",
      "text/plain": [
       "<Figure size 432x288 with 1 Axes>"
      ]
     },
     "metadata": {
      "needs_background": "light"
     },
     "output_type": "display_data"
    }
   ],
   "source": [
    "pl.plot(df.consumption,df.date,'.')\n",
    "pl.plot(l,df.date)"
   ]
  },
  {
   "cell_type": "markdown",
   "metadata": {},
   "source": [
    "# Task 2:  CO2 data"
   ]
  },
  {
   "cell_type": "markdown",
   "metadata": {},
   "source": [
    "\n",
    "\n",
    "Starting by loading the data in and giving the columns some more useful names:"
   ]
  },
  {
   "cell_type": "code",
   "execution_count": 14,
   "metadata": {},
   "outputs": [],
   "source": [
    "co2 = pd.read_csv('daily_flask_co2_mlo.csv',skiprows=70,header=None,parse_dates=[0])\n",
    "co2.columns = ['Date','Time','T1','T2','Flag1','Flag2','CO2']"
   ]
  },
  {
   "cell_type": "markdown",
   "metadata": {},
   "source": [
    "If we are going to look at the year, then we need to extract it from the Date column on the dataset. One way to do this is by using the little function that I've written below. "
   ]
  },
  {
   "cell_type": "code",
   "execution_count": 15,
   "metadata": {},
   "outputs": [],
   "source": [
    "def split_date(df,col):\n",
    "    df[col+\"_year\"] = df[col].apply(lambda x: x.year)\n",
    "    df[col+\"_month\"] = df[col].apply(lambda x: x.month)\n",
    "    df[col+\"_day\"] = df[col].apply(lambda x: x.day)"
   ]
  },
  {
   "cell_type": "markdown",
   "metadata": {},
   "source": [
    "To run it, and then show the results, use the following commands."
   ]
  },
  {
   "cell_type": "code",
   "execution_count": 16,
   "metadata": {},
   "outputs": [
    {
     "data": {
      "text/html": [
       "<div>\n",
       "<style scoped>\n",
       "    .dataframe tbody tr th:only-of-type {\n",
       "        vertical-align: middle;\n",
       "    }\n",
       "\n",
       "    .dataframe tbody tr th {\n",
       "        vertical-align: top;\n",
       "    }\n",
       "\n",
       "    .dataframe thead th {\n",
       "        text-align: right;\n",
       "    }\n",
       "</style>\n",
       "<table border=\"1\" class=\"dataframe\">\n",
       "  <thead>\n",
       "    <tr style=\"text-align: right;\">\n",
       "      <th></th>\n",
       "      <th>Date</th>\n",
       "      <th>Time</th>\n",
       "      <th>T1</th>\n",
       "      <th>T2</th>\n",
       "      <th>Flag1</th>\n",
       "      <th>Flag2</th>\n",
       "      <th>CO2</th>\n",
       "      <th>Date_year</th>\n",
       "      <th>Date_month</th>\n",
       "      <th>Date_day</th>\n",
       "    </tr>\n",
       "  </thead>\n",
       "  <tbody>\n",
       "    <tr>\n",
       "      <th>0</th>\n",
       "      <td>1960-03-31</td>\n",
       "      <td>16:00</td>\n",
       "      <td>22006.67</td>\n",
       "      <td>1960.248</td>\n",
       "      <td>2</td>\n",
       "      <td>0</td>\n",
       "      <td>318.29</td>\n",
       "      <td>1960</td>\n",
       "      <td>3</td>\n",
       "      <td>31</td>\n",
       "    </tr>\n",
       "    <tr>\n",
       "      <th>1</th>\n",
       "      <td>1960-04-23</td>\n",
       "      <td>10:30</td>\n",
       "      <td>22029.44</td>\n",
       "      <td>1960.310</td>\n",
       "      <td>3</td>\n",
       "      <td>4</td>\n",
       "      <td>318.61</td>\n",
       "      <td>1960</td>\n",
       "      <td>4</td>\n",
       "      <td>23</td>\n",
       "    </tr>\n",
       "    <tr>\n",
       "      <th>2</th>\n",
       "      <td>1960-04-24</td>\n",
       "      <td>08:00</td>\n",
       "      <td>22030.33</td>\n",
       "      <td>1960.312</td>\n",
       "      <td>3</td>\n",
       "      <td>0</td>\n",
       "      <td>319.33</td>\n",
       "      <td>1960</td>\n",
       "      <td>4</td>\n",
       "      <td>24</td>\n",
       "    </tr>\n",
       "    <tr>\n",
       "      <th>3</th>\n",
       "      <td>1960-07-03</td>\n",
       "      <td>15:20</td>\n",
       "      <td>22100.64</td>\n",
       "      <td>1960.504</td>\n",
       "      <td>2</td>\n",
       "      <td>4</td>\n",
       "      <td>320.35</td>\n",
       "      <td>1960</td>\n",
       "      <td>7</td>\n",
       "      <td>3</td>\n",
       "    </tr>\n",
       "    <tr>\n",
       "      <th>4</th>\n",
       "      <td>1960-07-17</td>\n",
       "      <td>17:00</td>\n",
       "      <td>22114.71</td>\n",
       "      <td>1960.543</td>\n",
       "      <td>2</td>\n",
       "      <td>4</td>\n",
       "      <td>315.95</td>\n",
       "      <td>1960</td>\n",
       "      <td>7</td>\n",
       "      <td>17</td>\n",
       "    </tr>\n",
       "  </tbody>\n",
       "</table>\n",
       "</div>"
      ],
      "text/plain": [
       "        Date    Time        T1        T2  Flag1  Flag2     CO2  Date_year  \\\n",
       "0 1960-03-31   16:00  22006.67  1960.248      2      0  318.29       1960   \n",
       "1 1960-04-23   10:30  22029.44  1960.310      3      4  318.61       1960   \n",
       "2 1960-04-24   08:00  22030.33  1960.312      3      0  319.33       1960   \n",
       "3 1960-07-03   15:20  22100.64  1960.504      2      4  320.35       1960   \n",
       "4 1960-07-17   17:00  22114.71  1960.543      2      4  315.95       1960   \n",
       "\n",
       "   Date_month  Date_day  \n",
       "0           3        31  \n",
       "1           4        23  \n",
       "2           4        24  \n",
       "3           7         3  \n",
       "4           7        17  "
      ]
     },
     "execution_count": 16,
     "metadata": {},
     "output_type": "execute_result"
    }
   ],
   "source": [
    "split_date(co2,'Date')\n",
    "co2.head()"
   ]
  },
  {
   "cell_type": "markdown",
   "metadata": {},
   "source": [
    "### Extracting the data for 2016, 2017, and 2018 and plotting it in two different ways:\n",
    "1. In order, with the three years in different colours (so the time axis is 2016 -- 2018)\n",
    "2. With the three years on top of each other in different colours (so the time axis is Jan -- Dec)"
   ]
  },
  {
   "cell_type": "code",
   "execution_count": 17,
   "metadata": {},
   "outputs": [
    {
     "data": {
      "text/plain": [
       "[<matplotlib.lines.Line2D at 0x11c51cb00>]"
      ]
     },
     "execution_count": 17,
     "metadata": {},
     "output_type": "execute_result"
    },
    {
     "data": {
      "image/png": "[encoded data removed]",
      "text/plain": [
       "<Figure size 432x288 with 1 Axes>"
      ]
     },
     "metadata": {
      "needs_background": "light"
     },
     "output_type": "display_data"
    }
   ],
   "source": [
    "pl.plot(co2[co2.Date_year==2016].CO2,'r-')\n",
    "pl.plot(co2[co2.Date_year==2017].CO2,'g-')\n",
    "pl.plot(co2[co2.Date_year==2018].CO2,'b-')"
   ]
  },
  {
   "cell_type": "code",
   "execution_count": 18,
   "metadata": {},
   "outputs": [
    {
     "data": {
      "text/plain": [
       "[<matplotlib.lines.Line2D at 0x11ba84c18>]"
      ]
     },
     "execution_count": 18,
     "metadata": {},
     "output_type": "execute_result"
    },
    {
     "data": {
      "image/png": "[encoded data removed]",
      "text/plain": [
       "<Figure size 432x288 with 1 Axes>"
      ]
     },
     "metadata": {
      "needs_background": "light"
     },
     "output_type": "display_data"
    }
   ],
   "source": [
    "pl.plot(co2[co2.Date_year==2016].Date_month,co2[co2.Date_year==2016].CO2,'r-')\n",
    "pl.plot(co2[co2.Date_year==2017].Date_month,co2[co2.Date_year==2017].CO2,'g-')\n",
    "pl.plot(co2[co2.Date_year==2018].Date_month,co2[co2.Date_year==2018].CO2,'b-')"
   ]
  },
  {
   "cell_type": "code",
   "execution_count": 19,
   "metadata": {},
   "outputs": [
    {
     "name": "stderr",
     "output_type": "stream",
     "text": [
      "/anaconda3/lib/python3.7/site-packages/ipykernel_launcher.py:2: SettingWithCopyWarning: \n",
      "A value is trying to be set on a copy of a slice from a DataFrame.\n",
      "Try using .loc[row_indexer,col_indexer] = value instead\n",
      "\n",
      "See the caveats in the documentation: http://pandas.pydata.org/pandas-docs/stable/indexing.html#indexing-view-versus-copy\n",
      "  \n",
      "/anaconda3/lib/python3.7/site-packages/ipykernel_launcher.py:3: SettingWithCopyWarning: \n",
      "A value is trying to be set on a copy of a slice from a DataFrame.\n",
      "Try using .loc[row_indexer,col_indexer] = value instead\n",
      "\n",
      "See the caveats in the documentation: http://pandas.pydata.org/pandas-docs/stable/indexing.html#indexing-view-versus-copy\n",
      "  This is separate from the ipykernel package so we can avoid doing imports until\n",
      "/anaconda3/lib/python3.7/site-packages/ipykernel_launcher.py:4: SettingWithCopyWarning: \n",
      "A value is trying to be set on a copy of a slice from a DataFrame.\n",
      "Try using .loc[row_indexer,col_indexer] = value instead\n",
      "\n",
      "See the caveats in the documentation: http://pandas.pydata.org/pandas-docs/stable/indexing.html#indexing-view-versus-copy\n",
      "  after removing the cwd from sys.path.\n"
     ]
    },
    {
     "data": {
      "text/html": [
       "<div>\n",
       "<style scoped>\n",
       "    .dataframe tbody tr th:only-of-type {\n",
       "        vertical-align: middle;\n",
       "    }\n",
       "\n",
       "    .dataframe tbody tr th {\n",
       "        vertical-align: top;\n",
       "    }\n",
       "\n",
       "    .dataframe thead th {\n",
       "        text-align: right;\n",
       "    }\n",
       "</style>\n",
       "<table border=\"1\" class=\"dataframe\">\n",
       "  <thead>\n",
       "    <tr style=\"text-align: right;\">\n",
       "      <th></th>\n",
       "      <th>CO2</th>\n",
       "      <th>Date_year</th>\n",
       "      <th>Date_month</th>\n",
       "      <th>Date_day</th>\n",
       "    </tr>\n",
       "    <tr>\n",
       "      <th>Date</th>\n",
       "      <th></th>\n",
       "      <th></th>\n",
       "      <th></th>\n",
       "      <th></th>\n",
       "    </tr>\n",
       "  </thead>\n",
       "  <tbody>\n",
       "    <tr>\n",
       "      <th>1960-03-31</th>\n",
       "      <td>318.29</td>\n",
       "      <td>1960.0</td>\n",
       "      <td>3.0</td>\n",
       "      <td>31.0</td>\n",
       "    </tr>\n",
       "    <tr>\n",
       "      <th>1960-04-30</th>\n",
       "      <td>318.97</td>\n",
       "      <td>1960.0</td>\n",
       "      <td>4.0</td>\n",
       "      <td>23.5</td>\n",
       "    </tr>\n",
       "    <tr>\n",
       "      <th>1960-05-31</th>\n",
       "      <td>NaN</td>\n",
       "      <td>NaN</td>\n",
       "      <td>NaN</td>\n",
       "      <td>NaN</td>\n",
       "    </tr>\n",
       "    <tr>\n",
       "      <th>1960-06-30</th>\n",
       "      <td>NaN</td>\n",
       "      <td>NaN</td>\n",
       "      <td>NaN</td>\n",
       "      <td>NaN</td>\n",
       "    </tr>\n",
       "    <tr>\n",
       "      <th>1960-07-31</th>\n",
       "      <td>318.15</td>\n",
       "      <td>1960.0</td>\n",
       "      <td>7.0</td>\n",
       "      <td>10.0</td>\n",
       "    </tr>\n",
       "  </tbody>\n",
       "</table>\n",
       "</div>"
      ],
      "text/plain": [
       "               CO2  Date_year  Date_month  Date_day\n",
       "Date                                               \n",
       "1960-03-31  318.29     1960.0         3.0      31.0\n",
       "1960-04-30  318.97     1960.0         4.0      23.5\n",
       "1960-05-31     NaN        NaN         NaN       NaN\n",
       "1960-06-30     NaN        NaN         NaN       NaN\n",
       "1960-07-31  318.15     1960.0         7.0      10.0"
      ]
     },
     "execution_count": 19,
     "metadata": {},
     "output_type": "execute_result"
    }
   ],
   "source": [
    "# we have to lose a lot of columns\n",
    "co2_new = co2.iloc[:,[0,6]]\n",
    "co2_new.columns = ['Date','CO2']\n",
    "\n",
    "# And we should split the dates up again\n",
    "split_date(co2_new,'Date')\n",
    "\n",
    "# Telling Pandas that the Date column is actually an index to the datapoint\n",
    "co2_new.set_index('Date',inplace=True,drop=False)\n",
    "\n",
    "# We resample the data to average over the months\n",
    "co2_m = co2_new.resample(\"M\").mean()\n",
    "co2_m.head()"
   ]
  },
  {
   "cell_type": "code",
   "execution_count": 20,
   "metadata": {},
   "outputs": [
    {
     "data": {
      "text/plain": [
       "[<matplotlib.lines.Line2D at 0x11c68c2b0>]"
      ]
     },
     "execution_count": 20,
     "metadata": {},
     "output_type": "execute_result"
    },
    {
     "data": {
      "image/png": "[encoded data removed]",
      "text/plain": [
       "<Figure size 432x288 with 1 Axes>"
      ]
     },
     "metadata": {
      "needs_background": "light"
     },
     "output_type": "display_data"
    }
   ],
   "source": [
    "# Some of the months don't have any data, so get replaced by NaN. We need to drop those:\n",
    "co2_m = co2_m.dropna()\n",
    "\n",
    "# Now it looks better\n",
    "co2_m.head()\n",
    "\n",
    "# And here is the smoothed plot\n",
    "pl.plot(co2_m[co2_m.Date_year==2016].Date_month,co2_m[co2_m.Date_year==2016].CO2,'r-')\n",
    "pl.plot(co2_m[co2_m.Date_year==2017].Date_month,co2_m[co2_m.Date_year==2017].CO2,'g-')\n",
    "pl.plot(co2_m[co2_m.Date_year==2018].Date_month,co2_m[co2_m.Date_year==2018].CO2,'b-')"
   ]
  },
  {
   "cell_type": "code",
   "execution_count": null,
   "metadata": {},
   "outputs": [],
   "source": []
  }
 ],
 "metadata": {
  "kernelspec": {
   "display_name": "Python 3",
   "language": "python",
   "name": "python3"
  },
  "language_info": {
   "codemirror_mode": {
    "name": "ipython",
    "version": 3
   },
   "file_extension": ".py",
   "mimetype": "text/x-python",
   "name": "python",
   "nbconvert_exporter": "python",
   "pygments_lexer": "ipython3",
   "version": "3.7.1"
  }
 },
 "nbformat": 4,
 "nbformat_minor": 2
}
